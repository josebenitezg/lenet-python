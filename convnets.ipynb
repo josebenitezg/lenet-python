{
 "cells": [
  {
   "cell_type": "markdown",
   "id": "3e37f952",
   "metadata": {},
   "source": [
    "## 1 step forward and backward pass of a modern/modified(?) LeNet"
   ]
  },
  {
   "cell_type": "code",
   "execution_count": 1,
   "id": "6bfc7271",
   "metadata": {},
   "outputs": [
    {
     "name": "stderr",
     "output_type": "stream",
     "text": [
      "/Users/josebenitez/Documents/repositories/others/lenet-python/.venv/lib/python3.12/site-packages/tqdm/auto.py:21: TqdmWarning: IProgress not found. Please update jupyter and ipywidgets. See https://ipywidgets.readthedocs.io/en/stable/user_install.html\n",
      "  from .autonotebook import tqdm as notebook_tqdm\n"
     ]
    },
    {
     "data": {
      "text/plain": [
       "DatasetDict({\n",
       "    train: Dataset({\n",
       "        features: ['image', 'label'],\n",
       "        num_rows: 60000\n",
       "    })\n",
       "    test: Dataset({\n",
       "        features: ['image', 'label'],\n",
       "        num_rows: 10000\n",
       "    })\n",
       "})"
      ]
     },
     "execution_count": 1,
     "metadata": {},
     "output_type": "execute_result"
    }
   ],
   "source": [
    "from datasets import load_dataset\n",
    "mnist = load_dataset(\"mnist\")\n",
    "mnist"
   ]
  },
  {
   "cell_type": "code",
   "execution_count": 2,
   "id": "f566ee76",
   "metadata": {},
   "outputs": [
    {
     "data": {
      "image/jpeg": "[encoded data removed]",
      "image/png": "[encoded data removed]",
      "text/plain": [
       "<PIL.PngImagePlugin.PngImageFile image mode=L size=28x28>"
      ]
     },
     "execution_count": 2,
     "metadata": {},
     "output_type": "execute_result"
    }
   ],
   "source": [
    "# see one example\n",
    "mnist[\"train\"][0][\"image\"]"
   ]
  },
  {
   "cell_type": "code",
   "execution_count": 3,
   "id": "75bff629",
   "metadata": {},
   "outputs": [
    {
     "name": "stdout",
     "output_type": "stream",
     "text": [
      "Label: 5\n",
      "Size: (28, 28)\n"
     ]
    }
   ],
   "source": [
    "print(f\"Label: {mnist['train'][0]['label']}\")\n",
    "print(f\"Size: {mnist['train'][0]['image'].size}\")\n"
   ]
  },
  {
   "cell_type": "code",
   "execution_count": 4,
   "id": "ee30d99a",
   "metadata": {},
   "outputs": [],
   "source": [
    "import numpy as np\n",
    "example_np = np.array(mnist['train'][0]['image'])"
   ]
  },
  {
   "cell_type": "code",
   "execution_count": 5,
   "id": "596baafa",
   "metadata": {},
   "outputs": [],
   "source": [
    "# Convolutions - Kernels and biases init\n",
    "kernel_conv1 = np.random.randn(6, 5, 5) * 0.1\n",
    "bias_conv1 = np.zeros(6)\n",
    "kernel_conv2 = np.random.randn(16, 5, 5, 6) * 0.1\n",
    "bias_conv2 = np.zeros(16) "
   ]
  },
  {
   "cell_type": "code",
   "execution_count": null,
   "id": "ad74b719",
   "metadata": {},
   "outputs": [
    {
     "name": "stdout",
     "output_type": "stream",
     "text": [
      "(24, 24, 6)\n",
      "(12, 12, 6)\n"
     ]
    },
    {
     "data": {
      "image/png": "[encoded data removed]",
      "text/plain": [
       "<Figure size 640x480 with 3 Axes>"
      ]
     },
     "metadata": {},
     "output_type": "display_data"
    }
   ],
   "source": [
    "import matplotlib.pyplot as plt\n",
    "# Let's make a convolution of the image with the kernel \n",
    "# Bloque 1 C1 - DIM 24x24x6 - First conv layer\n",
    "conv1 = np.zeros((24, 24, 6))\n",
    "for k in range(6):\n",
    "    for i in range(24):\n",
    "        for j in range(24):\n",
    "            conv1[i, j, k] = np.sum(example_np[i:i+5, j:j+5] * kernel_conv1[k])\n",
    "\n",
    "print(conv1.shape)\n",
    "\n",
    "# reduce dimension of the image using pooling\n",
    "pool1 = np.zeros((12, 12, 6))\n",
    "for k in range(6):\n",
    "    for i in range(12):\n",
    "        for j in range(12):\n",
    "            block = conv1[i*2:i*2+2, j*2:j*2+2, k]\n",
    "            pool1[i, j, k] = np.mean(block)\n",
    "\n",
    "print(pool1.shape)\n",
    "\n",
    "ax1 = plt.subplot(1, 3, 1)\n",
    "ax2 = plt.subplot(1, 3, 2)\n",
    "ax3 = plt.subplot(1, 3, 3)\n",
    "\n",
    "ax1.imshow(example_np, cmap='gray')\n",
    "ax2.imshow(conv1[:, :, 0]) \n",
    "ax3.imshow(pool1[:, :, 0])\n",
    "plt.show()\n"
   ]
  },
  {
   "cell_type": "code",
   "execution_count": 13,
   "id": "386f4eca",
   "metadata": {},
   "outputs": [
    {
     "name": "stdout",
     "output_type": "stream",
     "text": [
      "(8, 8, 16)\n",
      "(4, 4, 16)\n",
      "(256,)\n"
     ]
    }
   ],
   "source": [
    "# bloque 2 - conv2 y pool2\n",
    "# ya que pool1 tiene 6 canales de entrada, tenemos que crear el kernel de conv2 con 5 canales de salida\n",
    "kernel_conv2 = np.random.randn(16, 5, 5, 6) * 0.1\n",
    "conv2 = np.zeros((8, 8, 16))\n",
    "for k in range(16):\n",
    "    for i in range(8):\n",
    "        for j in range(8):\n",
    "            conv2[i, j, k] = np.sum(pool1[i:i+5, j:j+5, :] * kernel_conv2[k])\n",
    "\n",
    "print(conv2.shape)\n",
    "\n",
    "Pool2 = np.zeros((4, 4, 16))\n",
    "for k in range(16):\n",
    "    for i in range(4):\n",
    "        for j in range(4):\n",
    "            Pool2[i, j, k] = np.mean(conv2[i*2:i*2+2, j*2:j*2+2, k])\n",
    "\n",
    "print(Pool2.shape)\n",
    "\n",
    "# flatten the results 4x4\n",
    "flatten = Pool2.flatten()\n",
    "print(flatten.shape)\n",
    "\n",
    "\n"
   ]
  },
  {
   "cell_type": "code",
   "execution_count": 14,
   "id": "54821fe5",
   "metadata": {},
   "outputs": [
    {
     "data": {
      "image/png": "[encoded data removed]",
      "text/plain": [
       "<Figure size 640x480 with 3 Axes>"
      ]
     },
     "metadata": {},
     "output_type": "display_data"
    }
   ],
   "source": [
    "# let's visualize the results\n",
    "ax1 = plt.subplot(1, 3, 1)\n",
    "ax2 = plt.subplot(1, 3, 2)\n",
    "ax3 = plt.subplot(1, 3, 3)\n",
    "ax1.imshow(example_np, cmap='gray')\n",
    "ax2.imshow(conv2[:, :, 0], cmap='gray')\n",
    "ax3.imshow(Pool2[:, :, 0], cmap='gray')\n",
    "\n",
    "plt.show()"
   ]
  },
  {
   "cell_type": "code",
   "execution_count": 15,
   "id": "9564a107",
   "metadata": {},
   "outputs": [
    {
     "data": {
      "image/png": "[encoded data removed]",
      "text/plain": [
       "<Figure size 640x480 with 1 Axes>"
      ]
     },
     "metadata": {},
     "output_type": "display_data"
    },
    {
     "name": "stdout",
     "output_type": "stream",
     "text": [
      "flatten [  22.63465034  -36.87241109  -37.59521566   -7.35057277  -60.39669269\n",
      "  -43.68359481   -6.18285112 -104.20783063   52.88113562  -33.00123206\n",
      "  -65.21633105   56.45902147   44.05046797  -35.46278165   36.53474257\n",
      "   -3.85417761   70.22326824  -31.44915032  -73.98989759   87.663135\n",
      "   11.14725158  -62.90955639   17.00537335 -116.66097737  -13.88564143\n",
      "   40.57423201  -41.03151733   28.58639473   31.46276131  -60.5960808\n",
      "   56.9638403   -49.90794261   82.74610869  -48.2722889   -45.59797036\n",
      "   91.15510665   49.46811571  -71.26751526   76.35215472  -66.39546487\n",
      "  -22.05584891   16.30586719  -27.5316514    56.88834542   56.51320861\n",
      "  -26.28017295  106.82928936  -45.00293639   35.43866734  -52.23454471\n",
      "  -16.63974266   61.72120317   32.22732963  -45.69927568   42.28987886\n",
      "  -23.39683699  -36.15594018   48.28705878  -11.74748679   39.30819427\n",
      "   41.57374624   -0.77241911   62.51553725  -16.26461666  -38.97630737\n",
      "  -11.97108453   21.50937769   42.53285861  -85.72325689  -26.13350862\n",
      "    4.25095147 -115.15278358   21.9098991    32.56341972  -32.21347419\n",
      "   -4.18197917    9.43855398  -42.28490803   26.4226321   -63.8068925\n",
      "  -11.52216939  -26.11695056  -16.33145003   66.99691414  -71.62195939\n",
      "  -20.05829115  -55.97190753  -84.20854332   28.32356299  108.21648663\n",
      "   -6.89326735  -10.37529661   62.38385626  -41.55764964  -89.01323921\n",
      "  -53.00166253   10.92299731   20.83756154  -67.052839    105.62413691\n",
      "   37.70489247  -32.93548868  -62.41483296  -67.31955978  -45.12357357\n",
      "  156.20196952   76.41442509  -30.53840785   10.27441544  -21.81984611\n",
      "  -50.98974777  -18.33684372   22.84207364   29.11891764    0.39221693\n",
      "   42.44138239  -20.11921592   -0.91767229   12.09566492  -48.6421811\n",
      "   46.59647451   10.39718852   56.80433586   32.88097893    0.42599873\n",
      "   -7.3142997    -2.65212857   -5.74308444  -39.91161028    1.15660664\n",
      "  -64.26405115  -14.63505887  -58.44533002  -33.57645085  -43.90605365\n",
      "  -22.85158111   35.06986399  -19.15237179   -0.41534374  -38.73345008\n",
      "   -9.2667437     2.47123771   -2.6626314     3.95808547   23.00521636\n",
      "   -9.93657251  -24.23480479   34.10873837  -82.68357458  -41.00284086\n",
      "  -39.79162112 -127.67582369   83.57825101  -22.42935133    5.24040045\n",
      "   33.86215576   44.26288153   -5.3020496   -16.14610625  -30.7138323\n",
      "   70.27280398  -52.34959981  -17.93829791  139.68819311  -16.16382845\n",
      "   11.49945949  -10.91953511  -60.89222749   27.33984237   65.48195139\n",
      "   75.44579587   72.34257225   -4.87354395  -17.17505357  -30.72215482\n",
      "   -1.8752943    78.61177825  -42.71553833  -37.05893304   70.66173899\n",
      "   67.28413293  -73.59951543   18.77609972   15.32415945  -55.90939975\n",
      "   51.68271019   35.9991409    17.9920839     3.28617796  -23.49319069\n",
      "   53.19584995    8.01101173   19.58013775  -52.46320856  -19.46217087\n",
      "   56.59316792  -29.87660414  -25.55396543  -53.75480422  -50.9997452\n",
      "   14.21790371   17.43039268   54.99264026   72.56063574    8.62638488\n",
      "    7.95544401  -13.11682006   55.33532417   44.44666186  -39.45895549\n",
      "  -11.28341593   63.26497416  -41.93369925  -48.41388842   22.25459935\n",
      " -117.63156634   37.20574616   19.61584403   11.68872235   49.55409735\n",
      "   -5.24271212  -53.95872004   42.19104956  -40.58893559   91.19421619\n",
      "   -0.31263703   19.46895089   80.12321847   24.31612685  -71.69892687\n",
      "   44.84618778  -60.76856376    1.44487796   56.27525432  -22.83977213\n",
      "   37.30003827   75.3139699   -62.47286382   13.96192245 -128.76261375\n",
      "   43.83176744  -32.14184012  -45.14121981  104.97421805   15.96886283\n",
      "  -39.09130781   10.85110052   -5.33245351  -70.2406981    96.40308216\n",
      "   22.23253161    5.81760149   45.20061936  -17.57171933   34.96716142\n",
      "  -11.33064533]\n"
     ]
    }
   ],
   "source": [
    "plt.bar(range(len(flatten)), flatten)\n",
    "plt.xlabel(\"indice de neurona\")\n",
    "plt.ylabel(\"activacion\")\n",
    "plt.title(\"activacion de cada neurona\")\n",
    "plt.show()\n",
    "\n",
    "\n",
    "print('flatten', flatten)"
   ]
  },
  {
   "cell_type": "code",
   "execution_count": 16,
   "id": "661fd645",
   "metadata": {},
   "outputs": [
    {
     "data": {
      "image/png": "[encoded data removed]",
      "text/plain": [
       "<Figure size 1500x200 with 2 Axes>"
      ]
     },
     "metadata": {},
     "output_type": "display_data"
    }
   ],
   "source": [
    "# ver como se ve el flatten como imagen 1D\n",
    "plt.figure(figsize=(15, 2))\n",
    "plt.imshow(flatten.reshape(1, -1), cmap='gray', aspect='auto')\n",
    "plt.xlabel('Índice de neurona')\n",
    "plt.title('Flatten como imagen 1D')\n",
    "plt.colorbar()\n",
    "plt.show()"
   ]
  },
  {
   "cell_type": "code",
   "execution_count": 17,
   "id": "9122b685",
   "metadata": {},
   "outputs": [
    {
     "name": "stdout",
     "output_type": "stream",
     "text": [
      "loss 75.34815572287651\n",
      "prediccion 6\n",
      "correct label 5\n"
     ]
    }
   ],
   "source": [
    "# ahora trabajemos en la FC (fully connected)\n",
    "# FC1 256 to 120 neurons\n",
    "# FC2 120 to 84 neurons\n",
    "# FC3 84 to 10 neurons (10 classes) (UNA POR CADA DIGITO)\n",
    "\n",
    "# cada capaz hace:\n",
    "# output layer output =  weights @ input + bias\n",
    "# funcion de activación: ReLu, tanh, sigmoid, softmax, etc\n",
    "# output = activation(output)\n",
    "\n",
    "#     256 → 120 → 84 → 10                \n",
    "def ReLu(x):\n",
    "    return np.maximum(0, x)\n",
    "\n",
    "def softmax(x):\n",
    "    return np.exp(x) / np.sum(np.exp(x))\n",
    "\n",
    "\n",
    "weights_fc1 = np.random.randn(120, 256) * 0.1\n",
    "weights_fc2 = np.random.randn(84, 120) * 0.1\n",
    "weights_fc3 = np.random.randn(10, 84) * 0.1\n",
    "\n",
    "bias_fc1 = np.random.randn(120) * 0.1\n",
    "bias_fc2 = np.random.randn(84) * 0.1\n",
    "bias_fc3 = np.random.randn(10) * 0.1\n",
    "\n",
    "# FC1 # aplicar la función de activación ReLu para capas intermedias - a diferencia de tanh(que utiliza lenet original)\n",
    "output_fc1 = weights_fc1 @ flatten + bias_fc1\n",
    "output_fc1 = ReLu(output_fc1)\n",
    "# FC2 \n",
    "output_fc2 = weights_fc2 @ output_fc1 + bias_fc2\n",
    "output_fc2 = ReLu(output_fc2)\n",
    "# FC3\n",
    "output_fc3 = weights_fc3 @ output_fc2 + bias_fc3\n",
    "y_pred = softmax(output_fc3)\n",
    "\n",
    "loss = -np.log(y_pred[5])\n",
    "print('loss', loss)\n",
    "print('prediccion', np.argmax(y_pred))\n",
    "label = mnist['train'][0]['label']\n",
    "print('correct label', label)\n"
   ]
  },
  {
   "cell_type": "code",
   "execution_count": 18,
   "id": "ddc1193f",
   "metadata": {},
   "outputs": [],
   "source": [
    "### backpropagation step\n",
    "# gradient of the loss with respect to the output\n",
    "# FC3: Sotfwmax + cross-entropy loss\n",
    "\n",
    "\n",
    "dz3 = y_pred.copy()\n",
    "dz3[label] -= 1 # para que el gradiente apunte hacia el valor correcto\n",
    "\n",
    "dWeights_fc3 = np.outer(dz3, output_fc2)\n",
    "dBiases_fc3 = dz3\n",
    "dOutput_fc2 = weights_fc3.T @ dz3\n",
    "\n",
    "# FC2: ReLu\n",
    "dz2 = dOutput_fc2 * (output_fc2 > 0)\n",
    "dWeights_fc2 = np.outer(dz2, output_fc1)\n",
    "dBiases_fc2 = dz2\n",
    "dOutput_fc1 = weights_fc2.T @ dz2\n",
    "\n",
    "# FC1: ReLu\n",
    "dz1 = dOutput_fc1 * (output_fc1 > 0)\n",
    "dWeights_fc1 = np.outer(dz1, flatten)\n",
    "dBiases_fc1 = dz1\n",
    "dFlatten = weights_fc1.T @ dz1\n"
   ]
  },
  {
   "cell_type": "code",
   "execution_count": 19,
   "id": "35e6c3dd",
   "metadata": {},
   "outputs": [],
   "source": [
    "\n",
    "# backprop for the conv layers\n",
    "# Paso 1: Reshape flatten → pool2\n",
    "# backwards step\n",
    "dpool2 = dFlatten.reshape(4, 4, 16)\n",
    "\n",
    "# Paso 2: Backprop a través de Pool2\n",
    "dconv2 = np.zeros_like(conv2)\n",
    "for k in range(16):\n",
    "    for i in range(4):\n",
    "        for j in range(4):\n",
    "                # El gradiente se distribuye uniformemente\n",
    "                # en la región 2x2 que se promedió\n",
    "                dconv2[i*2:i*2+2, j*2:j*2+2, k] += dpool2[i, j, k] / 4\n",
    "                # Dividir entre 4 porque average pooling toma promedio de 4 valores\n",
    "            \n",
    "# Paso 3: Backprop a través de Conv2\n",
    "\n",
    "dweights_conv2 = np.zeros_like(kernel_conv2)  # (16,5,5,6)\n",
    "dbias_conv2 = np.zeros_like(bias_conv2)        # (16,)\n",
    "dpool1 = np.zeros_like(pool1)                  # (12,12,6)\n",
    "\n",
    "for k in range(16):  # Para cada filtro\n",
    "    for i in range(8):\n",
    "        for j in range(8):\n",
    "            # Región del input que se usó en forward\n",
    "            input_patch = pool1[i:i+5, j:j+5, :]  # (5,5,6)\n",
    "            \n",
    "            # Gradiente del kernel: acumular sobre todas las posiciones\n",
    "            dweights_conv2[k] += input_patch * dconv2[i, j, k]\n",
    "            \n",
    "            # Gradiente del bias: simplemente sumar\n",
    "            dbias_conv2[k] += dconv2[i, j, k]\n",
    "            \n",
    "            # Gradiente hacia atrás (a pool1)\n",
    "            dpool1[i:i+5, j:j+5, :] += kernel_conv2[k] * dconv2[i, j, k]\n",
    "# normalizar por numero de posiciones\n",
    "dweights_conv2 /= (8 * 8)\n",
    "dbias_conv2 /= (8 * 8)\n",
    "# Paso 4: Backprop a través de Pool1\n",
    "\n",
    "# ═══════════════════════════════════════════════════\n",
    "# POOL1: Average Pooling 2x2\n",
    "# Input: conv1 (24x24x6), Output: pool1 (12x12x6)\n",
    "# ═══════════════════════════════════════════════════\n",
    "dconv1 = np.zeros_like(conv1)  # (24,24,6)\n",
    "\n",
    "for k in range(6):\n",
    "    for i in range(12):\n",
    "        for j in range(12):\n",
    "            dconv1[i*2:i*2+2, j*2:j*2+2, k] += dpool1[i, j, k] / 4\n",
    "\n",
    "# Paso 5: Backprop a través de Conv1\n",
    "\n",
    "# ═══════════════════════════════════════════════════\n",
    "# CONV1: 28x28 → 24x24x6 (kernel 5x5, 6 filtros)\n",
    "# ═══════════════════════════════════════════════════\n",
    "dweights_conv1 = np.zeros_like(kernel_conv1)  # (6,5,5)\n",
    "dbias_conv1 = np.zeros_like(bias_conv1)        # (6,)\n",
    "# d_input no lo necesitamos (no hay capas antes)\n",
    "\n",
    "for k in range(6):  # Para cada filtro\n",
    "    for i in range(24):\n",
    "        for j in range(24):\n",
    "            # Región del input que se usó\n",
    "            input_patch = example_np[i:i+5, j:j+5]  # (5,5)\n",
    "            \n",
    "            # Gradiente del kernel\n",
    "            dweights_conv1[k] += input_patch * dconv1[i, j, k]\n",
    "            \n",
    "            # Gradiente del bias\n",
    "            dbias_conv1[k] += dconv1[i, j, k]\n",
    "# normalizar por numero de posiciones\n",
    "dweights_conv1 /= (24 * 24)\n",
    "dbias_conv1 /= (24 * 24)\n",
    "\n",
    "\n",
    "\n"
   ]
  },
  {
   "cell_type": "code",
   "execution_count": 20,
   "id": "b7ae39c9",
   "metadata": {},
   "outputs": [],
   "source": [
    "learning_rate = 0.001\n",
    "# update weights and biases\n",
    "\n",
    "# Actualizar pesos y sesgos de las capas FC\n",
    "weights_fc1 -= learning_rate * dWeights_fc1\n",
    "bias_fc1 -= learning_rate * dBiases_fc1\n",
    "weights_fc2 -= learning_rate * dWeights_fc2\n",
    "bias_fc2 -= learning_rate * dBiases_fc2\n",
    "weights_fc3 -= learning_rate * dWeights_fc3\n",
    "bias_fc3 -= learning_rate * dBiases_fc3\n",
    "\n",
    "# Actualizar pesos y sesgos de las capas convolucionales\n",
    "kernel_conv2 -= learning_rate * dweights_conv2\n",
    "bias_conv2 -= learning_rate * dbias_conv2\n",
    "kernel_conv1 -= learning_rate * dweights_conv1\n",
    "bias_conv1 -= learning_rate * dbias_conv1"
   ]
  },
  {
   "cell_type": "code",
   "execution_count": null,
   "id": "c0ef4ec5",
   "metadata": {},
   "outputs": [],
   "source": []
  }
 ],
 "metadata": {
  "kernelspec": {
   "display_name": ".venv",
   "language": "python",
   "name": "python3"
  },
  "language_info": {
   "codemirror_mode": {
    "name": "ipython",
    "version": 3
   },
   "file_extension": ".py",
   "mimetype": "text/x-python",
   "name": "python",
   "nbconvert_exporter": "python",
   "pygments_lexer": "ipython3",
   "version": "3.12.11"
  }
 },
 "nbformat": 4,
 "nbformat_minor": 5
}
